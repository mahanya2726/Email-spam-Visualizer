{
 "cells": [
  {
   "cell_type": "code",
   "execution_count": 1,
   "id": "9a374ad6-47e7-46c4-a83c-c0f49bbfc5f4",
   "metadata": {},
   "outputs": [],
   "source": [
    "import numpy as np\n",
    "import pandas as pd"
   ]
  },
  {
   "cell_type": "code",
   "execution_count": 3,
   "id": "8b371926-f806-4914-981a-b5941e733c8e",
   "metadata": {},
   "outputs": [],
   "source": [
    "df=pd.read_csv('email.csv')\n",
    "\n"
   ]
  },
  {
   "cell_type": "code",
   "execution_count": 5,
   "id": "deb2bd51-0229-41e9-8b93-d411a1fbef12",
   "metadata": {},
   "outputs": [
    {
     "data": {
      "text/html": [
       "<div>\n",
       "<style scoped>\n",
       "    .dataframe tbody tr th:only-of-type {\n",
       "        vertical-align: middle;\n",
       "    }\n",
       "\n",
       "    .dataframe tbody tr th {\n",
       "        vertical-align: top;\n",
       "    }\n",
       "\n",
       "    .dataframe thead th {\n",
       "        text-align: right;\n",
       "    }\n",
       "</style>\n",
       "<table border=\"1\" class=\"dataframe\">\n",
       "  <thead>\n",
       "    <tr style=\"text-align: right;\">\n",
       "      <th></th>\n",
       "      <th>Category</th>\n",
       "      <th>Message</th>\n",
       "    </tr>\n",
       "  </thead>\n",
       "  <tbody>\n",
       "    <tr>\n",
       "      <th>0</th>\n",
       "      <td>ham</td>\n",
       "      <td>Go until jurong point, crazy.. Available only ...</td>\n",
       "    </tr>\n",
       "    <tr>\n",
       "      <th>1</th>\n",
       "      <td>ham</td>\n",
       "      <td>Ok lar... Joking wif u oni...</td>\n",
       "    </tr>\n",
       "    <tr>\n",
       "      <th>2</th>\n",
       "      <td>spam</td>\n",
       "      <td>Free entry in 2 a wkly comp to win FA Cup fina...</td>\n",
       "    </tr>\n",
       "    <tr>\n",
       "      <th>3</th>\n",
       "      <td>ham</td>\n",
       "      <td>U dun say so early hor... U c already then say...</td>\n",
       "    </tr>\n",
       "    <tr>\n",
       "      <th>4</th>\n",
       "      <td>ham</td>\n",
       "      <td>Nah I don't think he goes to usf, he lives aro...</td>\n",
       "    </tr>\n",
       "    <tr>\n",
       "      <th>5</th>\n",
       "      <td>spam</td>\n",
       "      <td>FreeMsg Hey there darling it's been 3 week's n...</td>\n",
       "    </tr>\n",
       "    <tr>\n",
       "      <th>6</th>\n",
       "      <td>ham</td>\n",
       "      <td>Even my brother is not like to speak with me. ...</td>\n",
       "    </tr>\n",
       "    <tr>\n",
       "      <th>7</th>\n",
       "      <td>ham</td>\n",
       "      <td>As per your request 'Melle Melle (Oru Minnamin...</td>\n",
       "    </tr>\n",
       "    <tr>\n",
       "      <th>8</th>\n",
       "      <td>spam</td>\n",
       "      <td>WINNER!! As a valued network customer you have...</td>\n",
       "    </tr>\n",
       "    <tr>\n",
       "      <th>9</th>\n",
       "      <td>spam</td>\n",
       "      <td>Had your mobile 11 months or more? U R entitle...</td>\n",
       "    </tr>\n",
       "  </tbody>\n",
       "</table>\n",
       "</div>"
      ],
      "text/plain": [
       "  Category                                            Message\n",
       "0      ham  Go until jurong point, crazy.. Available only ...\n",
       "1      ham                      Ok lar... Joking wif u oni...\n",
       "2     spam  Free entry in 2 a wkly comp to win FA Cup fina...\n",
       "3      ham  U dun say so early hor... U c already then say...\n",
       "4      ham  Nah I don't think he goes to usf, he lives aro...\n",
       "5     spam  FreeMsg Hey there darling it's been 3 week's n...\n",
       "6      ham  Even my brother is not like to speak with me. ...\n",
       "7      ham  As per your request 'Melle Melle (Oru Minnamin...\n",
       "8     spam  WINNER!! As a valued network customer you have...\n",
       "9     spam  Had your mobile 11 months or more? U R entitle..."
      ]
     },
     "execution_count": 5,
     "metadata": {},
     "output_type": "execute_result"
    }
   ],
   "source": [
    "df.head(10)\n"
   ]
  },
  {
   "cell_type": "code",
   "execution_count": 7,
   "id": "bdc4d75f-0298-416b-95c0-274e8b1ace37",
   "metadata": {},
   "outputs": [
    {
     "data": {
      "text/plain": [
       "(5573, 2)"
      ]
     },
     "execution_count": 7,
     "metadata": {},
     "output_type": "execute_result"
    }
   ],
   "source": [
    "df.shape\n"
   ]
  },
  {
   "cell_type": "code",
   "execution_count": 9,
   "id": "16c49824-dc54-419f-87d4-419b957134bb",
   "metadata": {},
   "outputs": [],
   "source": [
    "#1.data cleaning\n",
    "#2.EDA\n",
    "#Text processing\n",
    "#Model building\n",
    "#evaluation\n",
    "#Website"
   ]
  },
  {
   "cell_type": "code",
   "execution_count": 11,
   "id": "06944675-d26d-4f2a-a405-9b50e266378c",
   "metadata": {},
   "outputs": [],
   "source": [
    "#Data cleaning"
   ]
  },
  {
   "cell_type": "code",
   "execution_count": 13,
   "id": "99cc516a-4f88-4728-bf4d-952513aa3354",
   "metadata": {},
   "outputs": [
    {
     "name": "stdout",
     "output_type": "stream",
     "text": [
      "<class 'pandas.core.frame.DataFrame'>\n",
      "RangeIndex: 5573 entries, 0 to 5572\n",
      "Data columns (total 2 columns):\n",
      " #   Column    Non-Null Count  Dtype \n",
      "---  ------    --------------  ----- \n",
      " 0   Category  5573 non-null   object\n",
      " 1   Message   5573 non-null   object\n",
      "dtypes: object(2)\n",
      "memory usage: 87.2+ KB\n"
     ]
    }
   ],
   "source": [
    "df.info()\n",
    "\n"
   ]
  },
  {
   "cell_type": "code",
   "execution_count": 15,
   "id": "d6cbf0ad-e09a-468b-8e83-35313e52267d",
   "metadata": {},
   "outputs": [
    {
     "data": {
      "text/plain": [
       "Category    0\n",
       "Message     0\n",
       "dtype: int64"
      ]
     },
     "execution_count": 15,
     "metadata": {},
     "output_type": "execute_result"
    }
   ],
   "source": [
    "df.isnull().sum()\n"
   ]
  },
  {
   "cell_type": "code",
   "execution_count": 17,
   "id": "64c5a2f2-6f17-424e-8124-a675e5d11a1f",
   "metadata": {},
   "outputs": [
    {
     "data": {
      "text/plain": [
       "Category\n",
       "ham               4825\n",
       "spam               747\n",
       "{\"mode\":\"full\"       1\n",
       "Name: count, dtype: int64"
      ]
     },
     "execution_count": 17,
     "metadata": {},
     "output_type": "execute_result"
    }
   ],
   "source": [
    "df['Category'].value_counts()"
   ]
  },
  {
   "cell_type": "code",
   "execution_count": 19,
   "id": "fa275da5-25bf-4986-bbd2-42c77115612f",
   "metadata": {},
   "outputs": [],
   "source": [
    "df=df[df['Category'] != '{\"mode\":\"full\"']\n",
    "\n"
   ]
  },
  {
   "cell_type": "code",
   "execution_count": 21,
   "id": "010afa41-1a4d-4cfc-a186-cdaf6ae0a98d",
   "metadata": {},
   "outputs": [
    {
     "data": {
      "text/plain": [
       "(5572, 2)"
      ]
     },
     "execution_count": 21,
     "metadata": {},
     "output_type": "execute_result"
    }
   ],
   "source": [
    "df.shape"
   ]
  },
  {
   "cell_type": "code",
   "execution_count": 23,
   "id": "d543be9a-0c6d-48a7-9a51-86fdd473e1c9",
   "metadata": {},
   "outputs": [],
   "source": [
    "from sklearn.preprocessing import LabelEncoder\n",
    "le=LabelEncoder()"
   ]
  },
  {
   "cell_type": "code",
   "execution_count": 24,
   "id": "bf40315e-1a7d-4da7-a119-bfd56bb00691",
   "metadata": {},
   "outputs": [],
   "source": [
    "df['Category']=le.fit_transform(df['Category'])\n"
   ]
  },
  {
   "cell_type": "code",
   "execution_count": 27,
   "id": "a5227fc5-6294-46b2-a08a-76820b085f6f",
   "metadata": {},
   "outputs": [
    {
     "data": {
      "text/html": [
       "<div>\n",
       "<style scoped>\n",
       "    .dataframe tbody tr th:only-of-type {\n",
       "        vertical-align: middle;\n",
       "    }\n",
       "\n",
       "    .dataframe tbody tr th {\n",
       "        vertical-align: top;\n",
       "    }\n",
       "\n",
       "    .dataframe thead th {\n",
       "        text-align: right;\n",
       "    }\n",
       "</style>\n",
       "<table border=\"1\" class=\"dataframe\">\n",
       "  <thead>\n",
       "    <tr style=\"text-align: right;\">\n",
       "      <th></th>\n",
       "      <th>Category</th>\n",
       "      <th>Message</th>\n",
       "    </tr>\n",
       "  </thead>\n",
       "  <tbody>\n",
       "    <tr>\n",
       "      <th>0</th>\n",
       "      <td>0</td>\n",
       "      <td>Go until jurong point, crazy.. Available only ...</td>\n",
       "    </tr>\n",
       "    <tr>\n",
       "      <th>1</th>\n",
       "      <td>0</td>\n",
       "      <td>Ok lar... Joking wif u oni...</td>\n",
       "    </tr>\n",
       "    <tr>\n",
       "      <th>2</th>\n",
       "      <td>1</td>\n",
       "      <td>Free entry in 2 a wkly comp to win FA Cup fina...</td>\n",
       "    </tr>\n",
       "    <tr>\n",
       "      <th>3</th>\n",
       "      <td>0</td>\n",
       "      <td>U dun say so early hor... U c already then say...</td>\n",
       "    </tr>\n",
       "    <tr>\n",
       "      <th>4</th>\n",
       "      <td>0</td>\n",
       "      <td>Nah I don't think he goes to usf, he lives aro...</td>\n",
       "    </tr>\n",
       "  </tbody>\n",
       "</table>\n",
       "</div>"
      ],
      "text/plain": [
       "   Category                                            Message\n",
       "0         0  Go until jurong point, crazy.. Available only ...\n",
       "1         0                      Ok lar... Joking wif u oni...\n",
       "2         1  Free entry in 2 a wkly comp to win FA Cup fina...\n",
       "3         0  U dun say so early hor... U c already then say...\n",
       "4         0  Nah I don't think he goes to usf, he lives aro..."
      ]
     },
     "execution_count": 27,
     "metadata": {},
     "output_type": "execute_result"
    }
   ],
   "source": [
    "df.head()"
   ]
  },
  {
   "cell_type": "code",
   "execution_count": 29,
   "id": "321c7a63-6f25-4844-bde1-2940686d32ec",
   "metadata": {},
   "outputs": [
    {
     "data": {
      "text/plain": [
       "415"
      ]
     },
     "execution_count": 29,
     "metadata": {},
     "output_type": "execute_result"
    }
   ],
   "source": [
    "df.duplicated().sum()"
   ]
  },
  {
   "cell_type": "code",
   "execution_count": 31,
   "id": "65b32d26-0612-452f-8887-236b37ac7f10",
   "metadata": {},
   "outputs": [],
   "source": [
    "df=df.drop_duplicates(keep='first')"
   ]
  },
  {
   "cell_type": "code",
   "execution_count": 33,
   "id": "9ab6704f-e30b-47fa-a2d1-a3f15c28e2a0",
   "metadata": {},
   "outputs": [
    {
     "data": {
      "text/plain": [
       "0"
      ]
     },
     "execution_count": 33,
     "metadata": {},
     "output_type": "execute_result"
    }
   ],
   "source": [
    "df.duplicated().sum()"
   ]
  },
  {
   "cell_type": "code",
   "execution_count": 35,
   "id": "d6f90088-5f1b-48b9-9f47-a28c9a398e7d",
   "metadata": {},
   "outputs": [
    {
     "data": {
      "text/plain": [
       "(5157, 2)"
      ]
     },
     "execution_count": 35,
     "metadata": {},
     "output_type": "execute_result"
    }
   ],
   "source": [
    "df.shape"
   ]
  },
  {
   "cell_type": "code",
   "execution_count": 37,
   "id": "4fb78d3f-865f-4d1c-a268-4df24c6d7965",
   "metadata": {},
   "outputs": [],
   "source": [
    "#EDA"
   ]
  },
  {
   "cell_type": "code",
   "execution_count": 39,
   "id": "da5e0859-6fdb-4de3-b9e1-88ac0eaf9fc1",
   "metadata": {},
   "outputs": [
    {
     "data": {
      "text/plain": [
       "Category\n",
       "0    4516\n",
       "1     641\n",
       "Name: count, dtype: int64"
      ]
     },
     "execution_count": 39,
     "metadata": {},
     "output_type": "execute_result"
    }
   ],
   "source": [
    "df['Category'].value_counts()"
   ]
  },
  {
   "cell_type": "code",
   "execution_count": 41,
   "id": "47624c47-1392-47b5-b907-9d607057179e",
   "metadata": {},
   "outputs": [],
   "source": [
    "import nltk"
   ]
  },
  {
   "cell_type": "code",
   "execution_count": 42,
   "id": "4f863743-20f7-4474-9e49-54f29701d0cf",
   "metadata": {},
   "outputs": [
    {
     "name": "stderr",
     "output_type": "stream",
     "text": [
      "[nltk_data] Downloading package punkt to\n",
      "[nltk_data]     C:\\Users\\mahan\\AppData\\Roaming\\nltk_data...\n",
      "[nltk_data]   Package punkt is already up-to-date!\n"
     ]
    },
    {
     "data": {
      "text/plain": [
       "True"
      ]
     },
     "execution_count": 42,
     "metadata": {},
     "output_type": "execute_result"
    }
   ],
   "source": [
    "nltk.download('punkt')"
   ]
  },
  {
   "cell_type": "code",
   "execution_count": 45,
   "id": "6504bd8d-627d-4f8c-8cf4-ab790959b77e",
   "metadata": {},
   "outputs": [
    {
     "data": {
      "text/plain": [
       "0       111\n",
       "1        29\n",
       "2       155\n",
       "3        49\n",
       "4        61\n",
       "       ... \n",
       "5567    160\n",
       "5568     36\n",
       "5569     57\n",
       "5570    125\n",
       "5571     26\n",
       "Name: Message, Length: 5157, dtype: int64"
      ]
     },
     "execution_count": 45,
     "metadata": {},
     "output_type": "execute_result"
    }
   ],
   "source": [
    "df['Message'].apply(len)"
   ]
  },
  {
   "cell_type": "code",
   "execution_count": 47,
   "id": "739da457-9ab9-4087-8a6f-9287511540c5",
   "metadata": {},
   "outputs": [],
   "source": [
    "df['num_words']=df['Message'].apply(lambda x: len(nltk.word_tokenize(x)))"
   ]
  },
  {
   "cell_type": "code",
   "execution_count": 48,
   "id": "ae5d3973-8be7-43aa-964e-cdb5afd1d386",
   "metadata": {},
   "outputs": [
    {
     "data": {
      "text/html": [
       "<div>\n",
       "<style scoped>\n",
       "    .dataframe tbody tr th:only-of-type {\n",
       "        vertical-align: middle;\n",
       "    }\n",
       "\n",
       "    .dataframe tbody tr th {\n",
       "        vertical-align: top;\n",
       "    }\n",
       "\n",
       "    .dataframe thead th {\n",
       "        text-align: right;\n",
       "    }\n",
       "</style>\n",
       "<table border=\"1\" class=\"dataframe\">\n",
       "  <thead>\n",
       "    <tr style=\"text-align: right;\">\n",
       "      <th></th>\n",
       "      <th>Category</th>\n",
       "      <th>Message</th>\n",
       "      <th>num_words</th>\n",
       "    </tr>\n",
       "  </thead>\n",
       "  <tbody>\n",
       "    <tr>\n",
       "      <th>0</th>\n",
       "      <td>0</td>\n",
       "      <td>Go until jurong point, crazy.. Available only ...</td>\n",
       "      <td>24</td>\n",
       "    </tr>\n",
       "    <tr>\n",
       "      <th>1</th>\n",
       "      <td>0</td>\n",
       "      <td>Ok lar... Joking wif u oni...</td>\n",
       "      <td>8</td>\n",
       "    </tr>\n",
       "    <tr>\n",
       "      <th>2</th>\n",
       "      <td>1</td>\n",
       "      <td>Free entry in 2 a wkly comp to win FA Cup fina...</td>\n",
       "      <td>37</td>\n",
       "    </tr>\n",
       "    <tr>\n",
       "      <th>3</th>\n",
       "      <td>0</td>\n",
       "      <td>U dun say so early hor... U c already then say...</td>\n",
       "      <td>13</td>\n",
       "    </tr>\n",
       "    <tr>\n",
       "      <th>4</th>\n",
       "      <td>0</td>\n",
       "      <td>Nah I don't think he goes to usf, he lives aro...</td>\n",
       "      <td>15</td>\n",
       "    </tr>\n",
       "  </tbody>\n",
       "</table>\n",
       "</div>"
      ],
      "text/plain": [
       "   Category                                            Message  num_words\n",
       "0         0  Go until jurong point, crazy.. Available only ...         24\n",
       "1         0                      Ok lar... Joking wif u oni...          8\n",
       "2         1  Free entry in 2 a wkly comp to win FA Cup fina...         37\n",
       "3         0  U dun say so early hor... U c already then say...         13\n",
       "4         0  Nah I don't think he goes to usf, he lives aro...         15"
      ]
     },
     "execution_count": 48,
     "metadata": {},
     "output_type": "execute_result"
    }
   ],
   "source": [
    "df.head()"
   ]
  },
  {
   "cell_type": "code",
   "execution_count": 51,
   "id": "fbbab8ab-de64-47c9-8b70-94eb0f42db7a",
   "metadata": {},
   "outputs": [
    {
     "data": {
      "text/plain": [
       "count    5157.000000\n",
       "mean       18.560403\n",
       "std        13.405970\n",
       "min         1.000000\n",
       "25%         9.000000\n",
       "50%        15.000000\n",
       "75%        26.000000\n",
       "max       220.000000\n",
       "Name: num_words, dtype: float64"
      ]
     },
     "execution_count": 51,
     "metadata": {},
     "output_type": "execute_result"
    }
   ],
   "source": [
    "df['num_words'].describe()"
   ]
  },
  {
   "cell_type": "code",
   "execution_count": 53,
   "id": "43b9cb49-72cb-4de7-aef6-3ad7c090c143",
   "metadata": {},
   "outputs": [
    {
     "data": {
      "text/html": [
       "<div>\n",
       "<style scoped>\n",
       "    .dataframe tbody tr th:only-of-type {\n",
       "        vertical-align: middle;\n",
       "    }\n",
       "\n",
       "    .dataframe tbody tr th {\n",
       "        vertical-align: top;\n",
       "    }\n",
       "\n",
       "    .dataframe thead th {\n",
       "        text-align: right;\n",
       "    }\n",
       "</style>\n",
       "<table border=\"1\" class=\"dataframe\">\n",
       "  <thead>\n",
       "    <tr style=\"text-align: right;\">\n",
       "      <th></th>\n",
       "      <th>Category</th>\n",
       "      <th>Message</th>\n",
       "      <th>num_words</th>\n",
       "    </tr>\n",
       "  </thead>\n",
       "  <tbody>\n",
       "    <tr>\n",
       "      <th>0</th>\n",
       "      <td>0</td>\n",
       "      <td>Go until jurong point, crazy.. Available only ...</td>\n",
       "      <td>24</td>\n",
       "    </tr>\n",
       "    <tr>\n",
       "      <th>1</th>\n",
       "      <td>0</td>\n",
       "      <td>Ok lar... Joking wif u oni...</td>\n",
       "      <td>8</td>\n",
       "    </tr>\n",
       "    <tr>\n",
       "      <th>3</th>\n",
       "      <td>0</td>\n",
       "      <td>U dun say so early hor... U c already then say...</td>\n",
       "      <td>13</td>\n",
       "    </tr>\n",
       "    <tr>\n",
       "      <th>4</th>\n",
       "      <td>0</td>\n",
       "      <td>Nah I don't think he goes to usf, he lives aro...</td>\n",
       "      <td>15</td>\n",
       "    </tr>\n",
       "    <tr>\n",
       "      <th>6</th>\n",
       "      <td>0</td>\n",
       "      <td>Even my brother is not like to speak with me. ...</td>\n",
       "      <td>18</td>\n",
       "    </tr>\n",
       "    <tr>\n",
       "      <th>...</th>\n",
       "      <td>...</td>\n",
       "      <td>...</td>\n",
       "      <td>...</td>\n",
       "    </tr>\n",
       "    <tr>\n",
       "      <th>5565</th>\n",
       "      <td>0</td>\n",
       "      <td>Huh y lei...</td>\n",
       "      <td>4</td>\n",
       "    </tr>\n",
       "    <tr>\n",
       "      <th>5568</th>\n",
       "      <td>0</td>\n",
       "      <td>Will ü b going to esplanade fr home?</td>\n",
       "      <td>9</td>\n",
       "    </tr>\n",
       "    <tr>\n",
       "      <th>5569</th>\n",
       "      <td>0</td>\n",
       "      <td>Pity, * was in mood for that. So...any other s...</td>\n",
       "      <td>15</td>\n",
       "    </tr>\n",
       "    <tr>\n",
       "      <th>5570</th>\n",
       "      <td>0</td>\n",
       "      <td>The guy did some bitching but I acted like i'd...</td>\n",
       "      <td>27</td>\n",
       "    </tr>\n",
       "    <tr>\n",
       "      <th>5571</th>\n",
       "      <td>0</td>\n",
       "      <td>Rofl. Its true to its name</td>\n",
       "      <td>7</td>\n",
       "    </tr>\n",
       "  </tbody>\n",
       "</table>\n",
       "<p>4516 rows × 3 columns</p>\n",
       "</div>"
      ],
      "text/plain": [
       "      Category                                            Message  num_words\n",
       "0            0  Go until jurong point, crazy.. Available only ...         24\n",
       "1            0                      Ok lar... Joking wif u oni...          8\n",
       "3            0  U dun say so early hor... U c already then say...         13\n",
       "4            0  Nah I don't think he goes to usf, he lives aro...         15\n",
       "6            0  Even my brother is not like to speak with me. ...         18\n",
       "...        ...                                                ...        ...\n",
       "5565         0                                       Huh y lei...          4\n",
       "5568         0               Will ü b going to esplanade fr home?          9\n",
       "5569         0  Pity, * was in mood for that. So...any other s...         15\n",
       "5570         0  The guy did some bitching but I acted like i'd...         27\n",
       "5571         0                         Rofl. Its true to its name          7\n",
       "\n",
       "[4516 rows x 3 columns]"
      ]
     },
     "execution_count": 53,
     "metadata": {},
     "output_type": "execute_result"
    }
   ],
   "source": [
    "df[df['Category']==0]"
   ]
  },
  {
   "cell_type": "code",
   "execution_count": 55,
   "id": "6af8a40e-0303-48f1-93a8-63bb7d73a9dd",
   "metadata": {},
   "outputs": [
    {
     "data": {
      "text/plain": [
       "count    4516.000000\n",
       "mean       17.267715\n",
       "std        13.588065\n",
       "min         1.000000\n",
       "25%         8.000000\n",
       "50%        13.000000\n",
       "75%        22.000000\n",
       "max       220.000000\n",
       "Name: num_words, dtype: float64"
      ]
     },
     "execution_count": 55,
     "metadata": {},
     "output_type": "execute_result"
    }
   ],
   "source": [
    "df[df['Category']==0]['num_words'].describe()"
   ]
  },
  {
   "cell_type": "code",
   "execution_count": 57,
   "id": "2af4d10e-bdbf-4703-aba9-a0700f37cef5",
   "metadata": {},
   "outputs": [
    {
     "data": {
      "text/plain": [
       "count    641.000000\n",
       "mean      27.667707\n",
       "std        7.103501\n",
       "min        2.000000\n",
       "25%       25.000000\n",
       "50%       29.000000\n",
       "75%       32.000000\n",
       "max       46.000000\n",
       "Name: num_words, dtype: float64"
      ]
     },
     "execution_count": 57,
     "metadata": {},
     "output_type": "execute_result"
    }
   ],
   "source": [
    "df[df['Category']==1]['num_words'].describe()"
   ]
  },
  {
   "cell_type": "code",
   "execution_count": 59,
   "id": "b1c1e5e8-f230-4c67-9537-c9c7e7716a04",
   "metadata": {},
   "outputs": [],
   "source": [
    "#Data Preprocessing\n",
    "#1.Lowercase\n",
    "#2.Tokenization\n",
    "#3.removind special character\n",
    "#4.removing stop words and punctuation\n",
    "#5.Stemming"
   ]
  },
  {
   "cell_type": "code",
   "execution_count": 61,
   "id": "70647528-66a2-4dce-9efc-a98d599db1b6",
   "metadata": {},
   "outputs": [],
   "source": [
    "def transform_sentence(text):\n",
    "    text=text.lower()  #lowercase\n",
    "    text=nltk.word_tokenize(text) #Tokenization\n",
    "\n",
    "    temp=[]  # removing special character\n",
    "    for word in text:\n",
    "        if word.isalnum():\n",
    "            temp.append(word)\n",
    "    text=temp\n",
    "    \n",
    "    stopw=[]\n",
    "    punw=[]\n",
    "    temp=[]\n",
    "    from nltk.corpus import stopwords\n",
    "    stopw=stopwords.words('english')\n",
    "    import string\n",
    "    punw=string.punctuation\n",
    "\n",
    "    for i in text:        #stop words and punctuation removal\n",
    "        if i not in stopw and i not in punw:\n",
    "            temp.append(i)\n",
    "    text=temp\n",
    "   \n",
    "\n",
    "    from nltk.stem.porter import PorterStemmer   #Stemming\n",
    "    ps=PorterStemmer()\n",
    "    j=0;\n",
    "    for i in text:\n",
    "        text[j]=ps.stem(i)\n",
    "        j=j+1\n",
    "\n",
    "    return \" \".join(text) \n",
    "    \n",
    "    "
   ]
  },
  {
   "cell_type": "code",
   "execution_count": 63,
   "id": "e05a0942-f345-4ae8-80e2-67f041d10074",
   "metadata": {},
   "outputs": [],
   "source": [
    "df['transformed_Message']=df['Message'].apply(transform_sentence)    "
   ]
  },
  {
   "cell_type": "code",
   "execution_count": 64,
   "id": "46ab2da7-1157-43f5-be8c-717611d18b8c",
   "metadata": {},
   "outputs": [
    {
     "data": {
      "text/html": [
       "<div>\n",
       "<style scoped>\n",
       "    .dataframe tbody tr th:only-of-type {\n",
       "        vertical-align: middle;\n",
       "    }\n",
       "\n",
       "    .dataframe tbody tr th {\n",
       "        vertical-align: top;\n",
       "    }\n",
       "\n",
       "    .dataframe thead th {\n",
       "        text-align: right;\n",
       "    }\n",
       "</style>\n",
       "<table border=\"1\" class=\"dataframe\">\n",
       "  <thead>\n",
       "    <tr style=\"text-align: right;\">\n",
       "      <th></th>\n",
       "      <th>Category</th>\n",
       "      <th>Message</th>\n",
       "      <th>num_words</th>\n",
       "      <th>transformed_Message</th>\n",
       "    </tr>\n",
       "  </thead>\n",
       "  <tbody>\n",
       "    <tr>\n",
       "      <th>0</th>\n",
       "      <td>0</td>\n",
       "      <td>Go until jurong point, crazy.. Available only ...</td>\n",
       "      <td>24</td>\n",
       "      <td>go jurong point crazi avail bugi n great world...</td>\n",
       "    </tr>\n",
       "    <tr>\n",
       "      <th>1</th>\n",
       "      <td>0</td>\n",
       "      <td>Ok lar... Joking wif u oni...</td>\n",
       "      <td>8</td>\n",
       "      <td>ok lar joke wif u oni</td>\n",
       "    </tr>\n",
       "    <tr>\n",
       "      <th>2</th>\n",
       "      <td>1</td>\n",
       "      <td>Free entry in 2 a wkly comp to win FA Cup fina...</td>\n",
       "      <td>37</td>\n",
       "      <td>free entri 2 wkli comp win fa cup final tkt 21...</td>\n",
       "    </tr>\n",
       "    <tr>\n",
       "      <th>3</th>\n",
       "      <td>0</td>\n",
       "      <td>U dun say so early hor... U c already then say...</td>\n",
       "      <td>13</td>\n",
       "      <td>u dun say earli hor u c alreadi say</td>\n",
       "    </tr>\n",
       "    <tr>\n",
       "      <th>4</th>\n",
       "      <td>0</td>\n",
       "      <td>Nah I don't think he goes to usf, he lives aro...</td>\n",
       "      <td>15</td>\n",
       "      <td>nah think goe usf live around though</td>\n",
       "    </tr>\n",
       "  </tbody>\n",
       "</table>\n",
       "</div>"
      ],
      "text/plain": [
       "   Category                                            Message  num_words  \\\n",
       "0         0  Go until jurong point, crazy.. Available only ...         24   \n",
       "1         0                      Ok lar... Joking wif u oni...          8   \n",
       "2         1  Free entry in 2 a wkly comp to win FA Cup fina...         37   \n",
       "3         0  U dun say so early hor... U c already then say...         13   \n",
       "4         0  Nah I don't think he goes to usf, he lives aro...         15   \n",
       "\n",
       "                                 transformed_Message  \n",
       "0  go jurong point crazi avail bugi n great world...  \n",
       "1                              ok lar joke wif u oni  \n",
       "2  free entri 2 wkli comp win fa cup final tkt 21...  \n",
       "3                u dun say earli hor u c alreadi say  \n",
       "4               nah think goe usf live around though  "
      ]
     },
     "execution_count": 64,
     "metadata": {},
     "output_type": "execute_result"
    }
   ],
   "source": [
    "df.head()"
   ]
  },
  {
   "cell_type": "code",
   "execution_count": 65,
   "id": "65ead2e6-5558-42b8-bdf2-99df28d84d54",
   "metadata": {},
   "outputs": [],
   "source": [
    "spam_words=[]\n",
    "for msg in df[df['Category']==1]['transformed_Message'].tolist():\n",
    "   for word in msg.split():\n",
    "       spam_words.append(word)"
   ]
  },
  {
   "cell_type": "code",
   "execution_count": 66,
   "id": "693f8d10-c3bc-4f7b-a3e6-16fe01a2d9af",
   "metadata": {},
   "outputs": [
    {
     "data": {
      "text/plain": [
       "9781"
      ]
     },
     "execution_count": 66,
     "metadata": {},
     "output_type": "execute_result"
    }
   ],
   "source": [
    "len(spam_words)"
   ]
  },
  {
   "cell_type": "code",
   "execution_count": 67,
   "id": "755a0bfc-6574-4d83-a856-2398000a6933",
   "metadata": {},
   "outputs": [
    {
     "data": {
      "text/plain": [
       "[('call', 311),\n",
       " ('free', 186),\n",
       " ('2', 154),\n",
       " ('txt', 139),\n",
       " ('text', 122),\n",
       " ('ur', 119),\n",
       " ('u', 115),\n",
       " ('mobil', 110),\n",
       " ('stop', 108),\n",
       " ('repli', 103),\n",
       " ('claim', 96),\n",
       " ('4', 95),\n",
       " ('prize', 78),\n",
       " ('get', 73),\n",
       " ('new', 64),\n",
       " ('servic', 64),\n",
       " ('send', 60),\n",
       " ('tone', 59),\n",
       " ('urgent', 56),\n",
       " ('award', 55)]"
      ]
     },
     "execution_count": 67,
     "metadata": {},
     "output_type": "execute_result"
    }
   ],
   "source": [
    "from collections import Counter\n",
    "Counter(spam_words).most_common(20)"
   ]
  },
  {
   "cell_type": "code",
   "execution_count": 73,
   "id": "142a70b7-f4f1-4097-af33-109da8d948fc",
   "metadata": {},
   "outputs": [],
   "source": [
    "ham_words=[]\n",
    "for msg in df[df['Category']==0]['transformed_Message'].tolist():\n",
    "   for word in msg.split():\n",
    "       ham_words.append(word)"
   ]
  },
  {
   "cell_type": "code",
   "execution_count": 75,
   "id": "745f0758-0b4a-47a6-a380-85f46578b69a",
   "metadata": {},
   "outputs": [
    {
     "data": {
      "text/plain": [
       "35940"
      ]
     },
     "execution_count": 75,
     "metadata": {},
     "output_type": "execute_result"
    }
   ],
   "source": [
    "len(ham_words)"
   ]
  },
  {
   "cell_type": "code",
   "execution_count": 77,
   "id": "6b05103c-f510-46de-803d-7f8bfc1fb49b",
   "metadata": {},
   "outputs": [
    {
     "data": {
      "text/plain": [
       "[('u', 897),\n",
       " ('go', 407),\n",
       " ('get', 351),\n",
       " ('2', 288),\n",
       " ('gt', 288),\n",
       " ('lt', 287),\n",
       " ('come', 278),\n",
       " ('got', 239),\n",
       " ('know', 237),\n",
       " ('like', 236),\n",
       " ('call', 235),\n",
       " ('love', 222),\n",
       " ('time', 220),\n",
       " ('ok', 218),\n",
       " ('good', 215),\n",
       " ('want', 209),\n",
       " ('ur', 203),\n",
       " ('day', 195),\n",
       " ('ü', 173),\n",
       " ('need', 171)]"
      ]
     },
     "execution_count": 77,
     "metadata": {},
     "output_type": "execute_result"
    }
   ],
   "source": [
    "from collections import Counter\n",
    "Counter(ham_words).most_common(20)"
   ]
  },
  {
   "cell_type": "code",
   "execution_count": 79,
   "id": "75c253c2-12f6-4841-a19a-b1c6d0340728",
   "metadata": {},
   "outputs": [],
   "source": [
    "#Model Building"
   ]
  },
  {
   "cell_type": "code",
   "execution_count": 81,
   "id": "ad15054c-85b8-465d-8ca3-fbaa1bc8486f",
   "metadata": {},
   "outputs": [],
   "source": [
    "#vectorization\n",
    "from sklearn.feature_extraction.text import CountVectorizer,TfidfVectorizer\n",
    "cv=CountVectorizer()\n",
    "tfidf=TfidfVectorizer()"
   ]
  },
  {
   "cell_type": "code",
   "execution_count": 83,
   "id": "128965b6-670c-4023-b757-91b432912d09",
   "metadata": {},
   "outputs": [],
   "source": [
    "X=cv.fit_transform(df['transformed_Message']).toarray()"
   ]
  },
  {
   "cell_type": "code",
   "execution_count": 85,
   "id": "af24f1df-d9d1-403b-a655-418ae40cd71b",
   "metadata": {},
   "outputs": [
    {
     "data": {
      "text/plain": [
       "(5157, 6781)"
      ]
     },
     "execution_count": 85,
     "metadata": {},
     "output_type": "execute_result"
    }
   ],
   "source": [
    "X.shape"
   ]
  },
  {
   "cell_type": "code",
   "execution_count": 87,
   "id": "ac549be1-c09d-4bfc-93cd-dbcca7748aef",
   "metadata": {},
   "outputs": [],
   "source": [
    "y=df['Category'].values"
   ]
  },
  {
   "cell_type": "code",
   "execution_count": 89,
   "id": "f7357d52-f410-4e02-9f0a-4ef19bb68bf6",
   "metadata": {},
   "outputs": [
    {
     "data": {
      "text/plain": [
       "array([0, 0, 1, ..., 0, 0, 0])"
      ]
     },
     "execution_count": 89,
     "metadata": {},
     "output_type": "execute_result"
    }
   ],
   "source": [
    "y"
   ]
  },
  {
   "cell_type": "code",
   "execution_count": 91,
   "id": "0f60dff0-fa5e-44d4-abbe-10cd3078331a",
   "metadata": {},
   "outputs": [],
   "source": [
    "from sklearn.model_selection import train_test_split"
   ]
  },
  {
   "cell_type": "code",
   "execution_count": 93,
   "id": "1eb1953e-71b7-4298-9ce7-794147f266ac",
   "metadata": {},
   "outputs": [],
   "source": [
    "X_train,X_test,y_train,y_test=train_test_split(X,y,random_state=67,test_size=0.2)"
   ]
  },
  {
   "cell_type": "code",
   "execution_count": 95,
   "id": "62a05c8c-718d-4241-aea7-8d9ba8ec7ce2",
   "metadata": {},
   "outputs": [],
   "source": [
    "from sklearn.naive_bayes import GaussianNB,MultinomialNB,BernoulliNB\n",
    "from sklearn.metrics import accuracy_score,precision_score"
   ]
  },
  {
   "cell_type": "code",
   "execution_count": 97,
   "id": "f5514fda-c64c-43d3-8292-110fe6ab41e2",
   "metadata": {},
   "outputs": [],
   "source": [
    "gnb=GaussianNB()\n",
    "mnb=MultinomialNB()\n",
    "bnb=BernoulliNB()"
   ]
  },
  {
   "cell_type": "code",
   "execution_count": 99,
   "id": "3c62eec9-cc60-490a-b4ae-affe1773ffdd",
   "metadata": {},
   "outputs": [
    {
     "name": "stdout",
     "output_type": "stream",
     "text": [
      "0.8682170542635659\n",
      "0.8849557522123894\n"
     ]
    }
   ],
   "source": [
    "gnb.fit(X_train,y_train)\n",
    "y_pred1=gnb.predict(X_test)\n",
    "print(accuracy_score(y_pred1,y_test))\n",
    "print(precision_score(y_pred1,y_test))"
   ]
  },
  {
   "cell_type": "code",
   "execution_count": 100,
   "id": "949045e8-e8c0-4e3d-82d6-56ceb2403f1f",
   "metadata": {},
   "outputs": [
    {
     "name": "stdout",
     "output_type": "stream",
     "text": [
      "0.9777131782945736\n",
      "0.9203539823008849\n"
     ]
    }
   ],
   "source": [
    "#best\n",
    "mnb.fit(X_train,y_train)\n",
    "y_pred2=mnb.predict(X_test)\n",
    "print(accuracy_score(y_pred2,y_test))\n",
    "print(precision_score(y_pred2,y_test))"
   ]
  },
  {
   "cell_type": "code",
   "execution_count": 101,
   "id": "54ade128-883d-4e92-a873-4f89f1aa749e",
   "metadata": {},
   "outputs": [
    {
     "name": "stdout",
     "output_type": "stream",
     "text": [
      "0.9699612403100775\n",
      "0.7522123893805309\n"
     ]
    }
   ],
   "source": [
    "bnb.fit(X_train,y_train)\n",
    "y_pred3=bnb.predict(X_test)\n",
    "print(accuracy_score(y_pred3,y_test))\n",
    "print(precision_score(y_pred3,y_test))"
   ]
  },
  {
   "cell_type": "code",
   "execution_count": 105,
   "id": "e5078c44-2055-45dd-a12b-8f458f0c6e98",
   "metadata": {},
   "outputs": [],
   "source": [
    "import pickle\n",
    "pickle.dump(cv,open('vectorizer.pkl','wb'))\n",
    "pickle.dump(mnb,open('model.pkl','wb'))\n"
   ]
  },
  {
   "cell_type": "code",
   "execution_count": 107,
   "id": "598671c5-5a0f-43c8-9015-f2db8a00ddb1",
   "metadata": {},
   "outputs": [
    {
     "name": "stdout",
     "output_type": "stream",
     "text": [
      "Note: you may need to restart the kernel to use updated packages.\n"
     ]
    }
   ],
   "source": [
    "pip freeze > requirements.txt\n"
   ]
  },
  {
   "cell_type": "code",
   "execution_count": null,
   "id": "1b736732-fa1f-4806-87d9-f879310d161d",
   "metadata": {},
   "outputs": [],
   "source": []
  },
  {
   "cell_type": "code",
   "execution_count": null,
   "id": "5d54101d-89d1-4916-bed0-c09715cd58f9",
   "metadata": {},
   "outputs": [],
   "source": []
  }
 ],
 "metadata": {
  "kernelspec": {
   "display_name": "Python 3 (ipykernel)",
   "language": "python",
   "name": "python3"
  },
  "language_info": {
   "codemirror_mode": {
    "name": "ipython",
    "version": 3
   },
   "file_extension": ".py",
   "mimetype": "text/x-python",
   "name": "python",
   "nbconvert_exporter": "python",
   "pygments_lexer": "ipython3",
   "version": "3.12.4"
  }
 },
 "nbformat": 4,
 "nbformat_minor": 5
}
